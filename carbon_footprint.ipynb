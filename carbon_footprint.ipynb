{
 "cells": [
  {
   "cell_type": "code",
   "execution_count": 1,
   "id": "b639e330",
   "metadata": {},
   "outputs": [
    {
     "name": "stderr",
     "output_type": "stream",
     "text": [
      "2023-06-19 13:04:03.573 \n",
      "  \u001b[33m\u001b[1mWarning:\u001b[0m to view this Streamlit app on a browser, run it with the following\n",
      "  command:\n",
      "\n",
      "    streamlit run C:\\Users\\mahno\\anaconda3\\lib\\site-packages\\ipykernel_launcher.py [ARGUMENTS]\n"
     ]
    }
   ],
   "source": [
    "import streamlit as st\n",
    "\n",
    "def calculate_carbon_footprint(aircraft_type, distance):\n",
    "    if aircraft_type == 'a320':\n",
    "        fuel_consumption_per_mile = 50.625\n",
    "    elif aircraft_type == 'a321':\n",
    "        fuel_consumption_per_mile = 60\n",
    "    elif aircraft_type == 'b738':\n",
    "        fuel_consumption_per_mile = 52.5\n",
    "    elif aircraft_type == 'b777':\n",
    "        fuel_consumption_per_mile = 126.25\n",
    "    elif aircraft_type == 'b744':\n",
    "        fuel_consumption_per_mile = 245\n",
    "    elif aircraft_type == 'b763':\n",
    "        fuel_consumption_per_mile = 100\n",
    "    elif aircraft_type == 'a333':\n",
    "        fuel_consumption_per_mile = 118.75\n",
    "    elif aircraft_type == 'a380':\n",
    "        fuel_consumption_per_mile = 240\n",
    "    elif aircraft_type == 'an225':\n",
    "        fuel_consumption_per_mile = 320\n",
    "    else:\n",
    "        st.error('Invalid aircraft type!')\n",
    "        return\n",
    "\n",
    "    # Conversion factor: 1 liter of fuel = X metric tons of CO2 equivalent\n",
    "    conversion_factor = 2.31  # Example conversion factor, adjust as per the specific fuel\n",
    "\n",
    "    carbon_footprint_liters = fuel_consumption_per_mile * distance\n",
    "\n",
    "    st.success(f'Carbon Footprint: {carbon_footprint_liters} metric tons')\n",
    "\n",
    "\n",
    "# Create the web app using Streamlit\n",
    "def main():\n",
    "    st.title('Aircraft Carbon Footprint Calculator')\n",
    "\n",
    "    aircraft_type = st.text_input('Enter Type of Aircraft:')\n",
    "    distance = st.number_input('Enter Travel distance (in miles):')\n",
    "\n",
    "    if st.button('Calculate'):\n",
    "        calculate_carbon_footprint(aircraft_type, distance)\n",
    "\n",
    "\n",
    "if __name__ == '__main__':\n",
    "    main()\n"
   ]
  },
  {
   "cell_type": "code",
   "execution_count": null,
   "id": "c8543679",
   "metadata": {},
   "outputs": [],
   "source": []
  }
 ],
 "metadata": {
  "kernelspec": {
   "display_name": "Python 3 (ipykernel)",
   "language": "python",
   "name": "python3"
  },
  "language_info": {
   "codemirror_mode": {
    "name": "ipython",
    "version": 3
   },
   "file_extension": ".py",
   "mimetype": "text/x-python",
   "name": "python",
   "nbconvert_exporter": "python",
   "pygments_lexer": "ipython3",
   "version": "3.10.9"
  }
 },
 "nbformat": 4,
 "nbformat_minor": 5
}
